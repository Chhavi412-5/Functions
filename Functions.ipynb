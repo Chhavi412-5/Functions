{
  "nbformat": 4,
  "nbformat_minor": 0,
  "metadata": {
    "colab": {
      "provenance": []
    },
    "kernelspec": {
      "name": "python3",
      "display_name": "Python 3"
    },
    "language_info": {
      "name": "python"
    }
  },
  "cells": [
    {
      "cell_type": "markdown",
      "source": [
        "**THEORY QUESTIONS**"
      ],
      "metadata": {
        "id": "O6vp6nczksPk"
      }
    },
    {
      "cell_type": "markdown",
      "source": [
        "1. What is the difference between a function and a method in Python?\n",
        "\n",
        "Ans A function in Python is a standalone block of code that is designed to perform a specific task whereas a method in Python is similar to a function but is associated with an object."
      ],
      "metadata": {
        "id": "4k544D2eksML"
      }
    },
    {
      "cell_type": "markdown",
      "source": [
        "2. Explain the concept of function arguments and parameters in Python.\n",
        "\n",
        "Ans Parameters are variables defined in a function declaration. This act as placeholders for the values (arguments) that will be passed to the function.\n",
        "\n",
        "Arguments are the actual values that you pass to the function when you call it. These values replace the parameters defined in the function."
      ],
      "metadata": {
        "id": "2-_xNMbzksJc"
      }
    },
    {
      "cell_type": "markdown",
      "source": [
        "3. What are the different ways to define and call a function in Python?\n",
        "\n",
        "Ans By using the word def keyword followed by the function's name and parentheses () we can define a function. If the function takes any arguments, they are included inside the parentheses. The code inside a function must be indented after the colon to indicate it belongs to that function."
      ],
      "metadata": {
        "id": "NHyG_eySkr-v"
      }
    },
    {
      "cell_type": "markdown",
      "source": [
        "4. What is the purpose of the `return` statement in a Python function?\n",
        "\n",
        "A return statement is used to end the execution of the function call and it \"returns\" the value of the expression following the return keyword to the caller. The statements after the return statements are not executed."
      ],
      "metadata": {
        "id": "mzmkNWuJuSUs"
      }
    },
    {
      "cell_type": "markdown",
      "source": [
        "5. What are iterators in Python and how do they differ from iterables?\n",
        "\n",
        "Ans Iterable is an object, that one can iterate over. It generates an Iterator when passed to iter() method. An iterator is an object, which is used to iterate over an iterable object using the __next__() method. Iterators have the __next__() method, which returns the next item of the object."
      ],
      "metadata": {
        "id": "RET__kRAug06"
      }
    },
    {
      "cell_type": "markdown",
      "source": [
        "6. Explain the concept of generators in Python and how they are defined.\n",
        "\n",
        "Ans A generator function is a special type of function that returns an iterator object. Instead of using return to send back a single value, generator functions use yield to produce a series of results over time. This allows the function to generate values and pause its execution after each yield, maintaining its state between iterations."
      ],
      "metadata": {
        "id": "w4mpC9KEvB2Q"
      }
    },
    {
      "cell_type": "markdown",
      "source": [
        "7. What are the advantages of using generators over regular functions?\n",
        "\n",
        "Ans There are several advantages to using generators over regular loops. Here are a few of the most important ones:\n",
        "\n",
        "**Memory Efficiency:** A generator yields its values one by one, it does not need to store all of the values in memory at once. This can be especially useful when working with large data sets, as it reduces the risk of running out of memory.\n",
        "\n",
        "**Readability:** Generators can make your code easier to read and understand.\n",
        "\n",
        "**Speed:** Generators can also be faster than regular loops, especially when working with large data sets. This is because they avoid the overhead of creating a list or other data structure to store the results."
      ],
      "metadata": {
        "id": "YRfQsqLIvbmK"
      }
    },
    {
      "cell_type": "markdown",
      "source": [
        "8. What is a lambda function in Python and when is it typically used?\n",
        "\n",
        "Ans In Python, a lambda function is a concise way to create small, anonymous functions. Unlike regular functions defined with the def keyword, lambda functions are created using the lambda keyword and are typically used for short, immediate operations."
      ],
      "metadata": {
        "id": "h3Z3MWUyuTrA"
      }
    },
    {
      "cell_type": "markdown",
      "source": [
        "9. Explain the purpose and usage of the `map()` function in Python.\n",
        "\n",
        "Ans The map function in Python takes two arguments: a function and an iterable. It applies the specified function to each item of the iterable and returns a map object (an iterator) of the results. The map() function returned an iterator, which we then converted into a list using list(). This is a common practice when working with map()\n",
        "We used a custom function to double each value in the list a. The result was mapped and converted into a list for easy display."
      ],
      "metadata": {
        "id": "6E3OKFgZw_9j"
      }
    },
    {
      "cell_type": "markdown",
      "source": [
        "10. What is the difference between `map()`, `reduce()`, and `filter()` functions in Python?\n",
        "\n",
        "Ans The **map** () function returns a map object(which is an iterator) of the results after applying the given function to each item of a given iterable (list, tuple, etc.).\n",
        "\n",
        "The **reduce** function is used to apply a particular function passed in its argument to all of the list elements mentioned in the sequence passed along.This function is defined in “functools” module.\n",
        "\n",
        "The **filter()** method filters the given sequence with the help of a function that tests each element in the sequence to be true or not."
      ],
      "metadata": {
        "id": "OTJsx-pBxuWV"
      }
    },
    {
      "cell_type": "markdown",
      "source": [
        "**PRACTICAL QUESTIONS**"
      ],
      "metadata": {
        "id": "SBiINvMYkruW"
      }
    },
    {
      "cell_type": "markdown",
      "source": [
        "1. Write a Python function that takes a list of numbers as input and returns the sum of all even numbers in\n",
        "the list.\n",
        "\n"
      ],
      "metadata": {
        "id": "Kv6TjbHkk1w0"
      }
    },
    {
      "cell_type": "code",
      "source": [
        "\n",
        "def sum_even(numbers):\n",
        "  sum_even = 0\n",
        "  for i in numbers:\n",
        "    if i%2 == 0:\n",
        "      sum_even +=i\n",
        "  return sum_even\n",
        "\n",
        "user_input = input(\"enter numbers\")\n",
        "x = list(map(int, user_input.split()))\n",
        "print(sum_even(x))\n"
      ],
      "metadata": {
        "colab": {
          "base_uri": "https://localhost:8080/"
        },
        "id": "CNizEeUsog8H",
        "outputId": "b631668f-0b7a-46b5-9bfc-6788478a10fe"
      },
      "execution_count": 2,
      "outputs": [
        {
          "output_type": "stream",
          "name": "stdout",
          "text": [
            "enter numbers10 5 8\n",
            "18\n"
          ]
        }
      ]
    },
    {
      "cell_type": "markdown",
      "source": [
        "2. Create a Python function that accepts a string and returns the reverse of that string."
      ],
      "metadata": {
        "id": "6LGQYAtFceDX"
      }
    },
    {
      "cell_type": "code",
      "source": [
        "def rev_str():\n",
        "  rev_str = input(\"Enter a str\")\n",
        "  return rev_str[::-1]\n"
      ],
      "metadata": {
        "id": "2-phcMVecjEz"
      },
      "execution_count": null,
      "outputs": []
    },
    {
      "cell_type": "code",
      "source": [
        "rev_str()"
      ],
      "metadata": {
        "colab": {
          "base_uri": "https://localhost:8080/",
          "height": 53
        },
        "id": "7pMB4FTUdWXy",
        "outputId": "c56d3424-76fe-4056-aa76-c4e30bace42f"
      },
      "execution_count": null,
      "outputs": [
        {
          "name": "stdout",
          "output_type": "stream",
          "text": [
            "Enter a strChhavi\n"
          ]
        },
        {
          "output_type": "execute_result",
          "data": {
            "text/plain": [
              "'ivahhC'"
            ],
            "application/vnd.google.colaboratory.intrinsic+json": {
              "type": "string"
            }
          },
          "metadata": {},
          "execution_count": 13
        }
      ]
    },
    {
      "cell_type": "markdown",
      "source": [
        "3. Implement a Python function that takes a list of integers and returns a new list containing the squares of\n",
        "each number."
      ],
      "metadata": {
        "id": "OMAqxg7mo9Tt"
      }
    },
    {
      "cell_type": "code",
      "source": [
        "def square_number(n):\n",
        "  for i in range(n):\n",
        "    result = []\n",
        "    result.append(n**2)\n",
        "  return result\n",
        "square_number(5)\n",
        "\n"
      ],
      "metadata": {
        "colab": {
          "base_uri": "https://localhost:8080/"
        },
        "id": "RbbvYY6Go-mI",
        "outputId": "32c29b9a-073b-4dbb-91b6-40587d36453d"
      },
      "execution_count": null,
      "outputs": [
        {
          "output_type": "execute_result",
          "data": {
            "text/plain": [
              "[25]"
            ]
          },
          "metadata": {},
          "execution_count": 11
        }
      ]
    },
    {
      "cell_type": "markdown",
      "source": [
        "4. Write a Python function that checks if a given number is prime or not from 1 to 200."
      ],
      "metadata": {
        "id": "xqfs1Do906ZR"
      }
    },
    {
      "cell_type": "code",
      "source": [
        "def prime_no(n):\n",
        "  if n<= 1:\n",
        "    return False\n",
        "  for i in range(2, n):\n",
        "    if n%i ==0:\n",
        "       return False\n",
        "  return True\n",
        "for i in range(1, 200):\n",
        "  print(f\"{i} is prime? {prime_no(i)}\")\n",
        ""
      ],
      "metadata": {
        "colab": {
          "base_uri": "https://localhost:8080/"
        },
        "id": "QAfDFuIE2P-W",
        "outputId": "b82a7147-d613-4612-8d61-5c81afcbf541"
      },
      "execution_count": 4,
      "outputs": [
        {
          "output_type": "stream",
          "name": "stdout",
          "text": [
            "1 is prime? False\n",
            "2 is prime? True\n",
            "3 is prime? True\n",
            "4 is prime? False\n",
            "5 is prime? True\n",
            "6 is prime? False\n",
            "7 is prime? True\n",
            "8 is prime? False\n",
            "9 is prime? False\n",
            "10 is prime? False\n",
            "11 is prime? True\n",
            "12 is prime? False\n",
            "13 is prime? True\n",
            "14 is prime? False\n",
            "15 is prime? False\n",
            "16 is prime? False\n",
            "17 is prime? True\n",
            "18 is prime? False\n",
            "19 is prime? True\n",
            "20 is prime? False\n",
            "21 is prime? False\n",
            "22 is prime? False\n",
            "23 is prime? True\n",
            "24 is prime? False\n",
            "25 is prime? False\n",
            "26 is prime? False\n",
            "27 is prime? False\n",
            "28 is prime? False\n",
            "29 is prime? True\n",
            "30 is prime? False\n",
            "31 is prime? True\n",
            "32 is prime? False\n",
            "33 is prime? False\n",
            "34 is prime? False\n",
            "35 is prime? False\n",
            "36 is prime? False\n",
            "37 is prime? True\n",
            "38 is prime? False\n",
            "39 is prime? False\n",
            "40 is prime? False\n",
            "41 is prime? True\n",
            "42 is prime? False\n",
            "43 is prime? True\n",
            "44 is prime? False\n",
            "45 is prime? False\n",
            "46 is prime? False\n",
            "47 is prime? True\n",
            "48 is prime? False\n",
            "49 is prime? False\n",
            "50 is prime? False\n",
            "51 is prime? False\n",
            "52 is prime? False\n",
            "53 is prime? True\n",
            "54 is prime? False\n",
            "55 is prime? False\n",
            "56 is prime? False\n",
            "57 is prime? False\n",
            "58 is prime? False\n",
            "59 is prime? True\n",
            "60 is prime? False\n",
            "61 is prime? True\n",
            "62 is prime? False\n",
            "63 is prime? False\n",
            "64 is prime? False\n",
            "65 is prime? False\n",
            "66 is prime? False\n",
            "67 is prime? True\n",
            "68 is prime? False\n",
            "69 is prime? False\n",
            "70 is prime? False\n",
            "71 is prime? True\n",
            "72 is prime? False\n",
            "73 is prime? True\n",
            "74 is prime? False\n",
            "75 is prime? False\n",
            "76 is prime? False\n",
            "77 is prime? False\n",
            "78 is prime? False\n",
            "79 is prime? True\n",
            "80 is prime? False\n",
            "81 is prime? False\n",
            "82 is prime? False\n",
            "83 is prime? True\n",
            "84 is prime? False\n",
            "85 is prime? False\n",
            "86 is prime? False\n",
            "87 is prime? False\n",
            "88 is prime? False\n",
            "89 is prime? True\n",
            "90 is prime? False\n",
            "91 is prime? False\n",
            "92 is prime? False\n",
            "93 is prime? False\n",
            "94 is prime? False\n",
            "95 is prime? False\n",
            "96 is prime? False\n",
            "97 is prime? True\n",
            "98 is prime? False\n",
            "99 is prime? False\n",
            "100 is prime? False\n",
            "101 is prime? True\n",
            "102 is prime? False\n",
            "103 is prime? True\n",
            "104 is prime? False\n",
            "105 is prime? False\n",
            "106 is prime? False\n",
            "107 is prime? True\n",
            "108 is prime? False\n",
            "109 is prime? True\n",
            "110 is prime? False\n",
            "111 is prime? False\n",
            "112 is prime? False\n",
            "113 is prime? True\n",
            "114 is prime? False\n",
            "115 is prime? False\n",
            "116 is prime? False\n",
            "117 is prime? False\n",
            "118 is prime? False\n",
            "119 is prime? False\n",
            "120 is prime? False\n",
            "121 is prime? False\n",
            "122 is prime? False\n",
            "123 is prime? False\n",
            "124 is prime? False\n",
            "125 is prime? False\n",
            "126 is prime? False\n",
            "127 is prime? True\n",
            "128 is prime? False\n",
            "129 is prime? False\n",
            "130 is prime? False\n",
            "131 is prime? True\n",
            "132 is prime? False\n",
            "133 is prime? False\n",
            "134 is prime? False\n",
            "135 is prime? False\n",
            "136 is prime? False\n",
            "137 is prime? True\n",
            "138 is prime? False\n",
            "139 is prime? True\n",
            "140 is prime? False\n",
            "141 is prime? False\n",
            "142 is prime? False\n",
            "143 is prime? False\n",
            "144 is prime? False\n",
            "145 is prime? False\n",
            "146 is prime? False\n",
            "147 is prime? False\n",
            "148 is prime? False\n",
            "149 is prime? True\n",
            "150 is prime? False\n",
            "151 is prime? True\n",
            "152 is prime? False\n",
            "153 is prime? False\n",
            "154 is prime? False\n",
            "155 is prime? False\n",
            "156 is prime? False\n",
            "157 is prime? True\n",
            "158 is prime? False\n",
            "159 is prime? False\n",
            "160 is prime? False\n",
            "161 is prime? False\n",
            "162 is prime? False\n",
            "163 is prime? True\n",
            "164 is prime? False\n",
            "165 is prime? False\n",
            "166 is prime? False\n",
            "167 is prime? True\n",
            "168 is prime? False\n",
            "169 is prime? False\n",
            "170 is prime? False\n",
            "171 is prime? False\n",
            "172 is prime? False\n",
            "173 is prime? True\n",
            "174 is prime? False\n",
            "175 is prime? False\n",
            "176 is prime? False\n",
            "177 is prime? False\n",
            "178 is prime? False\n",
            "179 is prime? True\n",
            "180 is prime? False\n",
            "181 is prime? True\n",
            "182 is prime? False\n",
            "183 is prime? False\n",
            "184 is prime? False\n",
            "185 is prime? False\n",
            "186 is prime? False\n",
            "187 is prime? False\n",
            "188 is prime? False\n",
            "189 is prime? False\n",
            "190 is prime? False\n",
            "191 is prime? True\n",
            "192 is prime? False\n",
            "193 is prime? True\n",
            "194 is prime? False\n",
            "195 is prime? False\n",
            "196 is prime? False\n",
            "197 is prime? True\n",
            "198 is prime? False\n",
            "199 is prime? True\n"
          ]
        }
      ]
    },
    {
      "cell_type": "markdown",
      "source": [
        "5. Create an iterator class in Python that generates the Fibonacci sequence up to a specified number of\n",
        "terms."
      ],
      "metadata": {
        "id": "mTrn4NuC2oc4"
      }
    },
    {
      "cell_type": "code",
      "source": [
        "l = iter([1,2,3,4])\n",
        "def fib(n):\n",
        "  a = 0\n",
        "  b = 1\n",
        "  for i in range(n):\n",
        "    return a, b == b, a+b\n"
      ],
      "metadata": {
        "id": "V_4rN2gCeV6D",
        "colab": {
          "base_uri": "https://localhost:8080/"
        },
        "outputId": "f33ade47-089a-4152-efa3-cb2d0263b23f"
      },
      "execution_count": null,
      "outputs": [
        {
          "output_type": "execute_result",
          "data": {
            "text/plain": [
              "(0, True, 1)"
            ]
          },
          "metadata": {},
          "execution_count": 31
        }
      ]
    },
    {
      "cell_type": "markdown",
      "source": [
        "6. Write a generator function in Python that yields the powers of 2 up to a given exponent."
      ],
      "metadata": {
        "id": "SMI04SXWiScR"
      }
    },
    {
      "cell_type": "code",
      "source": [
        "def power_two():\n",
        "  power_two = int(input(\"enter a power\"))\n",
        "  for i in range(power_two):\n",
        "   return 2**i\n",
        "\n",
        "power_two()"
      ],
      "metadata": {
        "id": "zzFy44yfiUhW",
        "colab": {
          "base_uri": "https://localhost:8080/",
          "height": 321
        },
        "outputId": "8c8a32e7-33aa-4293-ed9d-bc37b94296fb"
      },
      "execution_count": null,
      "outputs": [
        {
          "output_type": "error",
          "ename": "KeyboardInterrupt",
          "evalue": "Interrupted by user",
          "traceback": [
            "\u001b[0;31m---------------------------------------------------------------------------\u001b[0m",
            "\u001b[0;31mKeyboardInterrupt\u001b[0m                         Traceback (most recent call last)",
            "\u001b[0;32m/tmp/ipython-input-27-232121416.py\u001b[0m in \u001b[0;36m<cell line: 0>\u001b[0;34m()\u001b[0m\n\u001b[1;32m      4\u001b[0m    \u001b[0;32mreturn\u001b[0m \u001b[0;36m2\u001b[0m\u001b[0;34m**\u001b[0m\u001b[0mi\u001b[0m\u001b[0;34m\u001b[0m\u001b[0;34m\u001b[0m\u001b[0m\n\u001b[1;32m      5\u001b[0m \u001b[0;34m\u001b[0m\u001b[0m\n\u001b[0;32m----> 6\u001b[0;31m \u001b[0mpower_two\u001b[0m\u001b[0;34m(\u001b[0m\u001b[0;34m)\u001b[0m\u001b[0;34m\u001b[0m\u001b[0;34m\u001b[0m\u001b[0m\n\u001b[0m",
            "\u001b[0;32m/tmp/ipython-input-27-232121416.py\u001b[0m in \u001b[0;36mpower_two\u001b[0;34m()\u001b[0m\n\u001b[1;32m      1\u001b[0m \u001b[0;32mdef\u001b[0m \u001b[0mpower_two\u001b[0m\u001b[0;34m(\u001b[0m\u001b[0;34m)\u001b[0m\u001b[0;34m:\u001b[0m\u001b[0;34m\u001b[0m\u001b[0;34m\u001b[0m\u001b[0m\n\u001b[0;32m----> 2\u001b[0;31m   \u001b[0mpower_two\u001b[0m \u001b[0;34m=\u001b[0m \u001b[0mint\u001b[0m\u001b[0;34m(\u001b[0m\u001b[0minput\u001b[0m\u001b[0;34m(\u001b[0m\u001b[0;34m\"enter a power\"\u001b[0m\u001b[0;34m)\u001b[0m\u001b[0;34m)\u001b[0m\u001b[0;34m\u001b[0m\u001b[0;34m\u001b[0m\u001b[0m\n\u001b[0m\u001b[1;32m      3\u001b[0m   \u001b[0;32mfor\u001b[0m \u001b[0mi\u001b[0m \u001b[0;32min\u001b[0m \u001b[0mrange\u001b[0m\u001b[0;34m(\u001b[0m\u001b[0mpower_two\u001b[0m\u001b[0;34m)\u001b[0m\u001b[0;34m:\u001b[0m\u001b[0;34m\u001b[0m\u001b[0;34m\u001b[0m\u001b[0m\n\u001b[1;32m      4\u001b[0m    \u001b[0;32mreturn\u001b[0m \u001b[0;36m2\u001b[0m\u001b[0;34m**\u001b[0m\u001b[0mi\u001b[0m\u001b[0;34m\u001b[0m\u001b[0;34m\u001b[0m\u001b[0m\n\u001b[1;32m      5\u001b[0m \u001b[0;34m\u001b[0m\u001b[0m\n",
            "\u001b[0;32m/usr/local/lib/python3.11/dist-packages/ipykernel/kernelbase.py\u001b[0m in \u001b[0;36mraw_input\u001b[0;34m(self, prompt)\u001b[0m\n\u001b[1;32m   1175\u001b[0m                 \u001b[0;34m\"raw_input was called, but this frontend does not support input requests.\"\u001b[0m\u001b[0;34m\u001b[0m\u001b[0;34m\u001b[0m\u001b[0m\n\u001b[1;32m   1176\u001b[0m             )\n\u001b[0;32m-> 1177\u001b[0;31m         return self._input_request(\n\u001b[0m\u001b[1;32m   1178\u001b[0m             \u001b[0mstr\u001b[0m\u001b[0;34m(\u001b[0m\u001b[0mprompt\u001b[0m\u001b[0;34m)\u001b[0m\u001b[0;34m,\u001b[0m\u001b[0;34m\u001b[0m\u001b[0;34m\u001b[0m\u001b[0m\n\u001b[1;32m   1179\u001b[0m             \u001b[0mself\u001b[0m\u001b[0;34m.\u001b[0m\u001b[0m_parent_ident\u001b[0m\u001b[0;34m[\u001b[0m\u001b[0;34m\"shell\"\u001b[0m\u001b[0;34m]\u001b[0m\u001b[0;34m,\u001b[0m\u001b[0;34m\u001b[0m\u001b[0;34m\u001b[0m\u001b[0m\n",
            "\u001b[0;32m/usr/local/lib/python3.11/dist-packages/ipykernel/kernelbase.py\u001b[0m in \u001b[0;36m_input_request\u001b[0;34m(self, prompt, ident, parent, password)\u001b[0m\n\u001b[1;32m   1217\u001b[0m             \u001b[0;32mexcept\u001b[0m \u001b[0mKeyboardInterrupt\u001b[0m\u001b[0;34m:\u001b[0m\u001b[0;34m\u001b[0m\u001b[0;34m\u001b[0m\u001b[0m\n\u001b[1;32m   1218\u001b[0m                 \u001b[0;31m# re-raise KeyboardInterrupt, to truncate traceback\u001b[0m\u001b[0;34m\u001b[0m\u001b[0;34m\u001b[0m\u001b[0m\n\u001b[0;32m-> 1219\u001b[0;31m                 \u001b[0;32mraise\u001b[0m \u001b[0mKeyboardInterrupt\u001b[0m\u001b[0;34m(\u001b[0m\u001b[0;34m\"Interrupted by user\"\u001b[0m\u001b[0;34m)\u001b[0m \u001b[0;32mfrom\u001b[0m \u001b[0;32mNone\u001b[0m\u001b[0;34m\u001b[0m\u001b[0;34m\u001b[0m\u001b[0m\n\u001b[0m\u001b[1;32m   1220\u001b[0m             \u001b[0;32mexcept\u001b[0m \u001b[0mException\u001b[0m\u001b[0;34m:\u001b[0m\u001b[0;34m\u001b[0m\u001b[0;34m\u001b[0m\u001b[0m\n\u001b[1;32m   1221\u001b[0m                 \u001b[0mself\u001b[0m\u001b[0;34m.\u001b[0m\u001b[0mlog\u001b[0m\u001b[0;34m.\u001b[0m\u001b[0mwarning\u001b[0m\u001b[0;34m(\u001b[0m\u001b[0;34m\"Invalid Message:\"\u001b[0m\u001b[0;34m,\u001b[0m \u001b[0mexc_info\u001b[0m\u001b[0;34m=\u001b[0m\u001b[0;32mTrue\u001b[0m\u001b[0;34m)\u001b[0m\u001b[0;34m\u001b[0m\u001b[0;34m\u001b[0m\u001b[0m\n",
            "\u001b[0;31mKeyboardInterrupt\u001b[0m: Interrupted by user"
          ]
        }
      ]
    },
    {
      "cell_type": "markdown",
      "source": [
        "7. Implement a generator function that reads a file line by line and yields each line as a string."
      ],
      "metadata": {
        "id": "0BDhQwMaktLs"
      }
    },
    {
      "cell_type": "code",
      "source": [
        "def read_file():\n"
      ],
      "metadata": {
        "id": "NvjxyghFC7el"
      },
      "execution_count": null,
      "outputs": []
    },
    {
      "cell_type": "markdown",
      "source": [
        "8. Use a lambda function in Python to sort a list of tuples based on the second element of each tuple."
      ],
      "metadata": {
        "id": "diBpm_HoxgEs"
      }
    },
    {
      "cell_type": "code",
      "source": [
        "sort_tuples = lambda sort: sort[list]\n",
        "list = ['ramesh', 'dog', 'apple']"
      ],
      "metadata": {
        "id": "6ZbMzTEjxpRc"
      },
      "execution_count": null,
      "outputs": []
    },
    {
      "cell_type": "markdown",
      "source": [
        "9. Write a Python program that uses `map()` to convert a list of temperatures from Celsius to Fahrenheit."
      ],
      "metadata": {
        "id": "6idTvm1Py3fE"
      }
    },
    {
      "cell_type": "code",
      "source": [
        "l = [32, 42, 34]\n",
        "list(map(lambda x: x*9/5 +32, l))"
      ],
      "metadata": {
        "colab": {
          "base_uri": "https://localhost:8080/"
        },
        "id": "b_7QBtuTy7TI",
        "outputId": "27f5d29b-7482-4f95-bd5b-83bbbd7f6844"
      },
      "execution_count": 5,
      "outputs": [
        {
          "output_type": "execute_result",
          "data": {
            "text/plain": [
              "[89.6, 107.6, 93.2]"
            ]
          },
          "metadata": {},
          "execution_count": 5
        }
      ]
    },
    {
      "cell_type": "markdown",
      "source": [
        "10. Create a Python program that uses `filter()` to remove all the vowels from a given string."
      ],
      "metadata": {
        "id": "4GahcJ_Z0h0r"
      }
    },
    {
      "cell_type": "code",
      "source": [
        "word = \"hey\"\n",
        "list(filter(lambda x: (x!='a','e','i','o','u'), word))"
      ],
      "metadata": {
        "colab": {
          "base_uri": "https://localhost:8080/"
        },
        "id": "rIGzDoP50meJ",
        "outputId": "1b348bfd-8b4c-4253-b513-6b2a048e4305"
      },
      "execution_count": 9,
      "outputs": [
        {
          "output_type": "execute_result",
          "data": {
            "text/plain": [
              "['h', 'e', 'y']"
            ]
          },
          "metadata": {},
          "execution_count": 9
        }
      ]
    },
    {
      "cell_type": "markdown",
      "source": [
        "11) Imagine an accounting routine used in a book shop. It works on a list with sublists, which look like this:\n",
        "\n",
        "Write a Python program, which returns a list with 2-tuples. Each tuple consists of the order number and the\n",
        "product of the price per item and the quantity. The product should be increased by 10,- € if the value of the\n",
        "order is smaller than 100,00 €.\n",
        "\n",
        "Write a Python program using lambda and map."
      ],
      "metadata": {
        "id": "bqHG90RP1g9U"
      }
    },
    {
      "cell_type": "code",
      "source": [
        "orders = [\n",
        "    [34587, \"Learning Python, Mark Lutz\", 4, 40.95],\n",
        "    [98762, \"Programming Python, Mark Lutz\", 5, 56.80],\n",
        "    [77226, \"Head First Python, Paul Barry\", 3, 32.95],\n",
        "    [88112, \"Einführung in Python3, Bernd Klein\", 3, 24.99]\n",
        "]\n",
        "\n",
        "# Use map and lambda to compute the result\n",
        "result = list(map(lambda order: (\n",
        "    order[0],\n",
        "    round(order[2] * order[3] + (10 if order[2] * order[3] < 100 else 0), 2)\n",
        "), orders))\n",
        "\n",
        "print(result)\n"
      ],
      "metadata": {
        "colab": {
          "base_uri": "https://localhost:8080/",
          "height": 211
        },
        "id": "MLgwi20S1rL4",
        "outputId": "c60500a7-9de0-4a2f-fda9-4cf841d97042"
      },
      "execution_count": null,
      "outputs": [
        {
          "output_type": "error",
          "ename": "TypeError",
          "evalue": "'list' object is not callable",
          "traceback": [
            "\u001b[0;31m---------------------------------------------------------------------------\u001b[0m",
            "\u001b[0;31mTypeError\u001b[0m                                 Traceback (most recent call last)",
            "\u001b[0;32m/tmp/ipython-input-47-1052260911.py\u001b[0m in \u001b[0;36m<cell line: 0>\u001b[0;34m()\u001b[0m\n\u001b[1;32m      7\u001b[0m \u001b[0;34m\u001b[0m\u001b[0m\n\u001b[1;32m      8\u001b[0m \u001b[0;31m# Use map and lambda to compute the result\u001b[0m\u001b[0;34m\u001b[0m\u001b[0;34m\u001b[0m\u001b[0m\n\u001b[0;32m----> 9\u001b[0;31m result = list(map(lambda order: (\n\u001b[0m\u001b[1;32m     10\u001b[0m     \u001b[0morder\u001b[0m\u001b[0;34m[\u001b[0m\u001b[0;36m0\u001b[0m\u001b[0;34m]\u001b[0m\u001b[0;34m,\u001b[0m\u001b[0;34m\u001b[0m\u001b[0;34m\u001b[0m\u001b[0m\n\u001b[1;32m     11\u001b[0m     \u001b[0mround\u001b[0m\u001b[0;34m(\u001b[0m\u001b[0morder\u001b[0m\u001b[0;34m[\u001b[0m\u001b[0;36m2\u001b[0m\u001b[0;34m]\u001b[0m \u001b[0;34m*\u001b[0m \u001b[0morder\u001b[0m\u001b[0;34m[\u001b[0m\u001b[0;36m3\u001b[0m\u001b[0;34m]\u001b[0m \u001b[0;34m+\u001b[0m \u001b[0;34m(\u001b[0m\u001b[0;36m10\u001b[0m \u001b[0;32mif\u001b[0m \u001b[0morder\u001b[0m\u001b[0;34m[\u001b[0m\u001b[0;36m2\u001b[0m\u001b[0;34m]\u001b[0m \u001b[0;34m*\u001b[0m \u001b[0morder\u001b[0m\u001b[0;34m[\u001b[0m\u001b[0;36m3\u001b[0m\u001b[0;34m]\u001b[0m \u001b[0;34m<\u001b[0m \u001b[0;36m100\u001b[0m \u001b[0;32melse\u001b[0m \u001b[0;36m0\u001b[0m\u001b[0;34m)\u001b[0m\u001b[0;34m,\u001b[0m \u001b[0;36m2\u001b[0m\u001b[0;34m)\u001b[0m\u001b[0;34m\u001b[0m\u001b[0;34m\u001b[0m\u001b[0m\n",
            "\u001b[0;31mTypeError\u001b[0m: 'list' object is not callable"
          ]
        }
      ]
    }
  ]
}